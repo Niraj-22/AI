{
 "cells": [
  {
   "cell_type": "code",
   "execution_count": null,
   "id": "9132e5cf",
   "metadata": {},
   "outputs": [],
   "source": [
    "#DFS\n",
    "graph = {\n",
    "    'A':['B','C','D'],'B':['E'],'C':['D','E'],'D':[],'E':[]\n",
    "}\n",
    "visited = set()\n",
    "\n",
    "def dfs(visited,graph,root):\n",
    "    if root not in visited:\n",
    "        print(root)\n",
    "        visited.add(root)\n",
    "        for neighbor in graph[root]:\n",
    "            dfs(visited,graph,neighbor)\n",
    "            \n",
    "dfs(visited,graph,'A')\n",
    "        \n",
    "    "
   ]
  },
  {
   "cell_type": "code",
   "execution_count": null,
   "id": "fd3950e1",
   "metadata": {},
   "outputs": [],
   "source": [
    "#DFS\n",
    "graph = {\n",
    "    'a':['b','c','d'],'b':['e'],'c':['d','e'],'d':[],'e':[]\n",
    "}\n",
    "visited = set()\n",
    "\n",
    "def dfs(visited,graph,root):\n",
    "    if root not in visited:\n",
    "        print(root)\n",
    "        visited.add(root)\n",
    "        for neighbor in graph[root]:\n",
    "            dfs(visited,graph,neighbor)\n",
    "            \n",
    "dfs(visited,graph,'a')"
   ]
  },
  {
   "cell_type": "code",
   "execution_count": null,
   "id": "d1cbc92f",
   "metadata": {},
   "outputs": [],
   "source": [
    "#BFS\n",
    "import collections\n",
    "\n",
    "graph = {\n",
    "    0:[1,2,3],1:[0,2],2:[0,1,4],3:[0],4:[2]\n",
    "}\n",
    "\n",
    "def bfs(graph,root):\n",
    "    visited = set()\n",
    "    queue = collections.deque([root])\n",
    "    while queue:\n",
    "        vertex= queue.popleft()\n",
    "        visited.add(vertex)\n",
    "        for i in graph[vertex]:\n",
    "            if i not in visited:\n",
    "                queue.append(i)\n",
    "    print(visited)\n",
    "\n",
    "bfs(graph,0)"
   ]
  },
  {
   "cell_type": "code",
   "execution_count": null,
   "id": "8fd7bcea",
   "metadata": {},
   "outputs": [],
   "source": [
    "#BFS\n",
    "import collections\n",
    "\n",
    "graph = {\n",
    "    0:[1,2,3],1:[0,2],2:[0,1,4],3:[0],4:[2]\n",
    "}\n",
    "\n",
    "def bfs(graph,root):\n",
    "    visited = set()\n",
    "    queue = collections.deque([root])\n",
    "    \n",
    "    while queue:\n",
    "        vertex = queue.popleft()\n",
    "        visited.add(vertex)\n",
    "        \n",
    "        for i in graph[vertex]:\n",
    "            if i not in visited:\n",
    "                queue.append(i)\n",
    "    print(visited)\n",
    "    \n",
    "bfs(graph,0)\n",
    "                \n",
    "            "
   ]
  },
  {
   "cell_type": "code",
   "execution_count": null,
   "id": "a3282e2a",
   "metadata": {},
   "outputs": [],
   "source": [
    "#Chatbot\n",
    "from nltk.chat.util import Chat,reflections\n",
    "reflections\n",
    "pairs=[\n",
    "    ['Hello',['Hi!, How can I help you?']],\n",
    "    ['Need help',['How can I help you?']],\n",
    "    ['I am Niraj',['Nice to hear that']],\n",
    "    ['What is your name?',['I am Chatbot and here to help you']],\n",
    "    ['What is Chatbot?',['Chatbot is python program to help you']]\n",
    "]\n",
    "\n",
    "chat=Chat(pairs,reflections)\n",
    "chat.converse()"
   ]
  },
  {
   "cell_type": "code",
   "execution_count": null,
   "id": "743ed552",
   "metadata": {},
   "outputs": [],
   "source": [
    "#chatbot\n",
    "from nltk.chat.util import Chat,reflections\n",
    "reflections\n",
    "pairs=[\n",
    "    ['Hello',['Hi!, How can I help you?']],\n",
    "    ['Need help',['How can I help you?']],\n",
    "    ['I am Niraj',['Nice to hear that']],\n",
    "    ['What is your name?',['I am Chatbot and here to help you']],\n",
    "    ['What is Chatbot?',['Chatbot is python program to help you']]\n",
    "]\n",
    "chat=Chat(pairs,reflections)\n",
    "chat.converse()"
   ]
  },
  {
   "cell_type": "code",
   "execution_count": 5,
   "id": "8d68a7a5",
   "metadata": {},
   "outputs": [
    {
     "name": "stdout",
     "output_type": "stream",
     "text": [
      "Enter the value of n : 8\n",
      "[1, 0, 0, 0, 0, 0, 0, 0]\n",
      "[0, 0, 0, 0, 1, 0, 0, 0]\n",
      "[0, 0, 0, 0, 0, 0, 0, 1]\n",
      "[0, 0, 0, 0, 0, 1, 0, 0]\n",
      "[0, 0, 1, 0, 0, 0, 0, 0]\n",
      "[0, 0, 0, 0, 0, 0, 1, 0]\n",
      "[0, 1, 0, 0, 0, 0, 0, 0]\n",
      "[0, 0, 0, 1, 0, 0, 0, 0]\n"
     ]
    }
   ],
   "source": [
    "#n-queen\n",
    "n=int(input(\"Enter the value of n : \"))\n",
    "board=[[0 for i in range(n)]for i in range(n)]   \n",
    "def check_column(board,row,column):\n",
    "    for i in range(row,-1,-1):\n",
    "        if board[i][column]==1:\n",
    "            return False\n",
    "    return True\n",
    "def check_diagonal(board,row,column):\n",
    "    for i,j in zip(range(row,-1,-1),range(column,-1,-1)):\n",
    "        if board[i][j]==1:\n",
    "            return False\n",
    "    for i,j in zip(range(row,-1,-1),range(column,n)):\n",
    "        if board[i][j]==1:\n",
    "            return False\n",
    "    return True\n",
    "#backtracking\n",
    "def nqn(board,row):\n",
    "    if row==n:\n",
    "        return True\n",
    "    for i in range(n):\n",
    "        if(check_column(board,row,i)==True and check_diagonal(board,row,i)==True):\n",
    "            board[row][i]=1\n",
    "            if nqn(board,row+1):\n",
    "                return True\n",
    "            board[row][i]=0\n",
    "    return False\n",
    "nqn(board,0)\n",
    "for row in board:\n",
    "    print(row)"
   ]
  },
  {
   "cell_type": "code",
   "execution_count": 10,
   "id": "304c9964",
   "metadata": {},
   "outputs": [
    {
     "name": "stdout",
     "output_type": "stream",
     "text": [
      "Enter the value of n:9\n",
      "[1, 0, 0, 0, 0, 0, 0, 0, 0]\n",
      "[0, 0, 1, 0, 0, 0, 0, 0, 0]\n",
      "[0, 0, 0, 0, 0, 1, 0, 0, 0]\n",
      "[0, 0, 0, 0, 0, 0, 0, 1, 0]\n",
      "[0, 1, 0, 0, 0, 0, 0, 0, 0]\n",
      "[0, 0, 0, 1, 0, 0, 0, 0, 0]\n",
      "[0, 0, 0, 0, 0, 0, 0, 0, 1]\n",
      "[0, 0, 0, 0, 0, 0, 1, 0, 0]\n",
      "[0, 0, 0, 0, 1, 0, 0, 0, 0]\n"
     ]
    }
   ],
   "source": [
    "#n-queen\n",
    "n=int(input(\"Enter the value of n:\"))\n",
    "\n",
    "board=[[0 for i in range(n)]for i in range(n)]\n",
    "\n",
    "def check_column(board,row,column):\n",
    "    for i in range(row,-1,-1):\n",
    "        if board[i][column]==1:\n",
    "            return False\n",
    "    return True\n",
    "\n",
    "def check_diagonal(board,row,column):\n",
    "    for i,j in zip(range(row,-1,-1),range(column,-1,-1)):\n",
    "        if board[i][j]==1:\n",
    "            return False\n",
    "    for i,j in zip(range(row,-1,-1),range(column,n)):\n",
    "        if board[i][j]==1:\n",
    "            return False\n",
    "    return True\n",
    "#backtrack\n",
    "def nqn(board,row):\n",
    "    if row==n:\n",
    "        return True\n",
    "    for i in range(n):\n",
    "        if(check_column(board,row,i)==True and check_diagonal(board,row,i)==True):\n",
    "            board[row][i]=1\n",
    "            if nqn(board,row+1):\n",
    "                return True\n",
    "            board[row][i]=0   \n",
    "    return False\n",
    "nqn(board,0)    \n",
    "for row in board:\n",
    "    print(row)\n",
    "    \n",
    "    "
   ]
  },
  {
   "cell_type": "code",
   "execution_count": 6,
   "id": "6e04f7b9",
   "metadata": {},
   "outputs": [
    {
     "name": "stdout",
     "output_type": "stream",
     "text": [
      "Number of elements in array:4\n",
      "45\n",
      "2\n",
      "78\n",
      "9\n",
      "Sorted array is  [2, 9, 45, 78]\n"
     ]
    }
   ],
   "source": [
    "#sel-sort\n",
    "arr=[]\n",
    "n=int(input(\"Number of elements in array:\"))\n",
    "for i in range(0,n):\n",
    "    l=int(input())\n",
    "    arr.append(l)\n",
    "for i in range(len(arr)):\n",
    "    min_idx=i\n",
    "    for j in range(i+1,len(arr)):\n",
    "        if arr[min_idx]>arr[j]:\n",
    "            min_idx = j           \n",
    "    arr[i], arr[min_idx]= arr[min_idx], arr[i]\n",
    "print(\"Sorted array is \",arr)"
   ]
  },
  {
   "cell_type": "code",
   "execution_count": 8,
   "id": "ee5807e8",
   "metadata": {},
   "outputs": [
    {
     "name": "stdout",
     "output_type": "stream",
     "text": [
      "Enter no of elments :4\n",
      "23\n",
      "78\n",
      "21\n",
      "3\n",
      "Sorted array : [3, 21, 23, 78]\n"
     ]
    }
   ],
   "source": [
    "#sel-sort\n",
    "arr=[]\n",
    "n=int(input(\"Enter no of elments :\"))\n",
    "for i in range(0,n):\n",
    "    l=int(input())\n",
    "    arr.append(l)\n",
    "    \n",
    "for i in range(len(arr)):\n",
    "    min_idx=i\n",
    "    for j in range(i+1,len(arr)):\n",
    "        if arr[min_idx]>arr[j]:\n",
    "            min_idx=j\n",
    "            \n",
    "    arr[i],arr[min_idx]=arr[min_idx],arr[i]\n",
    "    \n",
    "print(\"Sorted array :\",arr)"
   ]
  },
  {
   "cell_type": "code",
   "execution_count": null,
   "id": "a9e96af6",
   "metadata": {},
   "outputs": [],
   "source": []
  }
 ],
 "metadata": {
  "kernelspec": {
   "display_name": "Python 3",
   "language": "python",
   "name": "python3"
  },
  "language_info": {
   "codemirror_mode": {
    "name": "ipython",
    "version": 3
   },
   "file_extension": ".py",
   "mimetype": "text/x-python",
   "name": "python",
   "nbconvert_exporter": "python",
   "pygments_lexer": "ipython3",
   "version": "3.8.8"
  }
 },
 "nbformat": 4,
 "nbformat_minor": 5
}
